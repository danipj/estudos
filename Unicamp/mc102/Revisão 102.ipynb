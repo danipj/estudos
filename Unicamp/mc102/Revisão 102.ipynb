{
 "cells": [
  {
   "cell_type": "markdown",
   "metadata": {},
   "source": [
    "# Tuplas\n",
    "\n",
    "- Sequência de elementos **imutáveis**\n"
   ]
  },
  {
   "cell_type": "code",
   "execution_count": 7,
   "metadata": {},
   "outputs": [
    {
     "data": {
      "text/plain": [
       "'Ana'"
      ]
     },
     "execution_count": 7,
     "metadata": {},
     "output_type": "execute_result"
    }
   ],
   "source": [
    "pessoa = ('Ana', 18, 2000, 8.5)\n",
    "pessoa[0]"
   ]
  },
  {
   "cell_type": "code",
   "execution_count": 10,
   "metadata": {},
   "outputs": [
    {
     "data": {
      "text/plain": [
       "(18, 2000, 8.5)"
      ]
     },
     "execution_count": 10,
     "metadata": {},
     "output_type": "execute_result"
    }
   ],
   "source": [
    "pessoa[1:3]"
   ]
  },
  {
   "cell_type": "code",
   "execution_count": 12,
   "metadata": {},
   "outputs": [
    {
     "ename": "TypeError",
     "evalue": "'tuple' object does not support item assignment",
     "output_type": "error",
     "traceback": [
      "\u001b[1;31m---------------------------------------------------------------------------\u001b[0m",
      "\u001b[1;31mTypeError\u001b[0m                                 Traceback (most recent call last)",
      "\u001b[1;32m<ipython-input-12-7199af382e57>\u001b[0m in \u001b[0;36m<module>\u001b[1;34m()\u001b[0m\n\u001b[1;32m----> 1\u001b[1;33m \u001b[0mpessoa\u001b[0m\u001b[1;33m[\u001b[0m\u001b[1;36m1\u001b[0m\u001b[1;33m]\u001b[0m \u001b[1;33m=\u001b[0m \u001b[1;36m20\u001b[0m \u001b[1;31m# não vai funcionar pois é imutável!!11!11!111\u001b[0m\u001b[1;33m\u001b[0m\u001b[0m\n\u001b[0m",
      "\u001b[1;31mTypeError\u001b[0m: 'tuple' object does not support item assignment"
     ]
    }
   ],
   "source": [
    "pessoa[1] = 20 # não vai funcionar pois é imutável!!11!11!111"
   ]
  },
  {
   "cell_type": "markdown",
   "metadata": {},
   "source": [
    " - ## Empacotando\n"
   ]
  },
  {
   "cell_type": "code",
   "execution_count": 14,
   "metadata": {},
   "outputs": [
    {
     "data": {
      "text/plain": [
       "('RA', 185421)"
      ]
     },
     "execution_count": 14,
     "metadata": {},
     "output_type": "execute_result"
    }
   ],
   "source": [
    "'RA', 185421"
   ]
  },
  {
   "cell_type": "markdown",
   "metadata": {},
   "source": [
    "- ## Desempacotando"
   ]
  },
  {
   "cell_type": "code",
   "execution_count": 18,
   "metadata": {},
   "outputs": [
    {
     "data": {
      "text/plain": [
       "('Joao', 19)"
      ]
     },
     "execution_count": 18,
     "metadata": {},
     "output_type": "execute_result"
    }
   ],
   "source": [
    "nome, idade = ('Joao', 19)\n",
    "nome, idade"
   ]
  },
  {
   "cell_type": "code",
   "execution_count": 19,
   "metadata": {},
   "outputs": [
    {
     "data": {
      "text/plain": [
       "'Joao'"
      ]
     },
     "execution_count": 19,
     "metadata": {},
     "output_type": "execute_result"
    }
   ],
   "source": [
    "nome"
   ]
  },
  {
   "cell_type": "code",
   "execution_count": 20,
   "metadata": {},
   "outputs": [
    {
     "data": {
      "text/plain": [
       "19"
      ]
     },
     "execution_count": 20,
     "metadata": {},
     "output_type": "execute_result"
    }
   ],
   "source": [
    "idade"
   ]
  },
  {
   "cell_type": "code",
   "execution_count": 22,
   "metadata": {},
   "outputs": [
    {
     "ename": "ValueError",
     "evalue": "too many values to unpack (expected 2)",
     "output_type": "error",
     "traceback": [
      "\u001b[1;31m---------------------------------------------------------------------------\u001b[0m",
      "\u001b[1;31mValueError\u001b[0m                                Traceback (most recent call last)",
      "\u001b[1;32m<ipython-input-22-e10c377751f4>\u001b[0m in \u001b[0;36m<module>\u001b[1;34m()\u001b[0m\n\u001b[1;32m----> 1\u001b[1;33m \u001b[0mnome\u001b[0m\u001b[1;33m,\u001b[0m \u001b[0midade\u001b[0m \u001b[1;33m=\u001b[0m \u001b[1;33m(\u001b[0m\u001b[1;34m'Lara'\u001b[0m\u001b[1;33m,\u001b[0m \u001b[1;36m18\u001b[0m\u001b[1;33m,\u001b[0m \u001b[1;36m2000\u001b[0m\u001b[1;33m)\u001b[0m \u001b[1;31m# mais valores do que variáveis para desempacotar!\u001b[0m\u001b[1;33m\u001b[0m\u001b[0m\n\u001b[0m",
      "\u001b[1;31mValueError\u001b[0m: too many values to unpack (expected 2)"
     ]
    }
   ],
   "source": [
    "nome, idade = ('Lara', 18, 2000) # mais valores do que variáveis para desempacotar!"
   ]
  },
  {
   "cell_type": "markdown",
   "metadata": {},
   "source": [
    "# Dicionários"
   ]
  },
  {
   "cell_type": "markdown",
   "metadata": {},
   "source": [
    "- Associa uma chave com um valor\n",
    "- Chaves sempre são **únicas**!"
   ]
  },
  {
   "cell_type": "code",
   "execution_count": 25,
   "metadata": {},
   "outputs": [
    {
     "data": {
      "text/plain": [
       "983472911"
      ]
     },
     "execution_count": 25,
     "metadata": {},
     "output_type": "execute_result"
    }
   ],
   "source": [
    "contatos = { 'Gui': 987261242, 'Dani': 983221832, 'Isa': 983472911}\n",
    "contatos['Isa']"
   ]
  },
  {
   "cell_type": "markdown",
   "metadata": {},
   "source": [
    " - ## Adicionando e modificando"
   ]
  },
  {
   "cell_type": "code",
   "execution_count": 28,
   "metadata": {},
   "outputs": [],
   "source": [
    "contatos['Clara'] = 987774444\n",
    "contatos['Isa'] = 998714567"
   ]
  },
  {
   "cell_type": "code",
   "execution_count": 29,
   "metadata": {},
   "outputs": [
    {
     "name": "stdout",
     "output_type": "stream",
     "text": [
      "Gui\n",
      "Dani\n",
      "Isa\n",
      "Clara\n"
     ]
    }
   ],
   "source": [
    "for x in contatos:\n",
    "\tprint(x) "
   ]
  },
  {
   "cell_type": "code",
   "execution_count": 30,
   "metadata": {},
   "outputs": [
    {
     "name": "stdout",
     "output_type": "stream",
     "text": [
      "Gui 987261242\n",
      "Dani 983221832\n",
      "Isa 998714567\n",
      "Clara 987774444\n"
     ]
    }
   ],
   "source": [
    "for x,y in contatos.items():\n",
    "\tprint(x,y)"
   ]
  },
  {
   "cell_type": "code",
   "execution_count": 31,
   "metadata": {},
   "outputs": [
    {
     "name": "stdout",
     "output_type": "stream",
     "text": [
      "Gui\n",
      "Dani\n",
      "Isa\n",
      "Clara\n",
      "987261242\n",
      "983221832\n",
      "998714567\n",
      "987774444\n"
     ]
    }
   ],
   "source": [
    "for x in contatos.keys():\n",
    "\tprint(x) \n",
    "\n",
    "for y in contatos.values():\n",
    "\tprint(y)"
   ]
  },
  {
   "cell_type": "markdown",
   "metadata": {},
   "source": [
    "**Exercício:**  \n",
    "Escreva uma função que traduz  um numeral para palavras\n",
    "\t\n",
    "*Exemplo:*\n",
    "\n",
    "```\n",
    "traduz(124)  \n",
    ">>> Um Dois Quatro\n",
    "```\n"
   ]
  },
  {
   "cell_type": "code",
   "execution_count": 1,
   "metadata": {},
   "outputs": [
    {
     "name": "stdout",
     "output_type": "stream",
     "text": [
      "Um\n",
      "Dois\n",
      "Quatro\n"
     ]
    }
   ],
   "source": [
    "def traduz(num):\n",
    "    dic = { 1:\"Um\", 2:\"Dois\", 3:\"Tres\", 4:\"Quatro\", 5:\"Cinco\", 6:\"Seis\", 7:\"Sete\", 8:\"Oito\", 9:\"Nove\", 0:\"Zero\"}\n",
    "\n",
    "    lista = []\n",
    "    while(num >0):\n",
    "        digito = num%10\n",
    "        lista.append(dic[digito])\n",
    "        num = num//10         # usar // retorna só a parte inteira da divisão!\n",
    "    i = len(lista) -1\n",
    "    while i>=0:\n",
    "        print(lista[i])\n",
    "        i-= 1\n",
    "\n",
    "traduz(124)"
   ]
  },
  {
   "cell_type": "markdown",
   "metadata": {},
   "source": [
    "# Matrizes\n",
    "\n",
    "Uma matriz nada mais é do que uma lista de listas."
   ]
  },
  {
   "cell_type": "code",
   "execution_count": 19,
   "metadata": {},
   "outputs": [
    {
     "name": "stdout",
     "output_type": "stream",
     "text": [
      "X _ O\n",
      "_ X _\n",
      "_ _ O\n"
     ]
    }
   ],
   "source": [
    "jogodavelha = [ ['X', '_', 'O'], ['_', 'X', '_'], ['_', '_', 'O'] ]\n",
    "\n",
    "#escrevendo cada elemento do vetor em uma linha\n",
    "def escreveMatriz(matriz):\n",
    "    for linha in matriz:\n",
    "        print(' '.join(linha))\n",
    "        \n",
    "escreveMatriz(jogodavelha)"
   ]
  },
  {
   "cell_type": "code",
   "execution_count": 16,
   "metadata": {},
   "outputs": [
    {
     "name": "stdout",
     "output_type": "stream",
     "text": [
      "X X\n"
     ]
    }
   ],
   "source": [
    "#Quais casas o X marcou?\n",
    "print(jogodavelha[0][0], jogodavelha[1][1]) #acesso através de <matriz>[<linha>][<coluna>]"
   ]
  },
  {
   "cell_type": "markdown",
   "metadata": {},
   "source": [
    " - ## Criando matrizes\n",
    "Ex: Matriz 3 x 4 de elementos cujo elemento é a linha que ele se encontra\n"
   ]
  },
  {
   "cell_type": "code",
   "execution_count": 20,
   "metadata": {},
   "outputs": [
    {
     "name": "stdout",
     "output_type": "stream",
     "text": [
      "0 0 0 0\n",
      "1 1 1 1\n",
      "2 2 2 2\n"
     ]
    }
   ],
   "source": [
    "m = [ [ str(i) for j in range(4) ] for i in range(3)]\n",
    "escreveMatriz(m)"
   ]
  },
  {
   "cell_type": "markdown",
   "metadata": {},
   "source": [
    " - ## Percorrendo matrizes"
   ]
  },
  {
   "cell_type": "code",
   "execution_count": 24,
   "metadata": {},
   "outputs": [
    {
     "name": "stdout",
     "output_type": "stream",
     "text": [
      "0 0 0 0  \n",
      "1 1 1 1  \n",
      "2 2 2 2  \n"
     ]
    }
   ],
   "source": [
    "for i in range(3): # percorre as linhas\n",
    "\tfor j in range(4): # percorre as colunas\n",
    "\t\tprint(m[i][j], end=' ')\n",
    "\tprint(' ')\n"
   ]
  },
  {
   "cell_type": "code",
   "execution_count": 25,
   "metadata": {},
   "outputs": [
    {
     "name": "stdout",
     "output_type": "stream",
     "text": [
      "0 1 2  \n",
      "0 1 2  \n",
      "0 1 2  \n",
      "0 1 2  \n"
     ]
    }
   ],
   "source": [
    "for i in range(4): # percorre as colunas\n",
    "\tfor j in range(3): # percorre as linhas\n",
    "\t\tprint(m[j][i], end=' ')\n",
    "\tprint(' ')"
   ]
  },
  {
   "cell_type": "markdown",
   "metadata": {},
   "source": [
    "**Exercício**  \n",
    "Dado um tabuleiro de jogo da velha, determine se alguém ganhou\n",
    "\n",
    "```\n",
    "ganhou([ [“_”,”X”,”O”],[“O”,”X”,”_”], [“O”,”X”,”_”] ])\n",
    ">>> X ganhou!\n",
    "ganhou([ [“O”,”X”,”_”],[“X,”O”,”_”], [“_”,”X”,”O”] ])\n",
    ">>> O ganhou!\n",
    "    ```"
   ]
  },
  {
   "cell_type": "code",
   "execution_count": 31,
   "metadata": {},
   "outputs": [
    {
     "name": "stdout",
     "output_type": "stream",
     "text": [
      "Ninguem ganhou!\n"
     ]
    }
   ],
   "source": [
    "def ganhou(m):\n",
    "    \"\"\"\n",
    "    m = matriz\n",
    "    \"\"\"\n",
    "    n = len(m) # o tabuleiro é uma matriz quadrada, definindo tamanho em n\n",
    "    \n",
    "    \"\"\"checa linhas\"\"\"\n",
    "    for i in range(n):\n",
    "        qX, qO = 0,0\n",
    "        for j in range(n):\n",
    "            if m[i][j] == \"X\":\n",
    "                qX+=1\n",
    "            if m[i][j] == \"O\":\n",
    "                qO+=1\n",
    "        if qX == n:\n",
    "            print(\"X ganhou!\")\n",
    "            return\n",
    "        elif qO == n:\n",
    "            print(\"O ganhou!\")\n",
    "            return\n",
    "\n",
    "    \"\"\"checa colunas\"\"\"\n",
    "    for i in range(n):\n",
    "        qX, qO = 0,0\n",
    "        for j in range(n):\n",
    "            if m[j][i] == \"X\":\n",
    "                qX+=1\n",
    "            if m[j][i] == \"O\":\n",
    "                qO+=1\n",
    "        if qX == n:\n",
    "            print(\"X ganhou!\")\n",
    "            return\n",
    "        elif qO == n:\n",
    "            print(\"O ganhou!\")\n",
    "            return\n",
    "\n",
    "    \"\"\"checa digonal p direita\"\"\"\n",
    "    qX, qO = 0,0\n",
    "    for i in range(n):\n",
    "        if m[i][i] == \"X\":\n",
    "            qX+=1\n",
    "        if m[i][i] == \"O\":\n",
    "            qO+=1\n",
    "        if qX == n:\n",
    "            print(\"X ganhou!\")\n",
    "            return\n",
    "        elif qO == n:\n",
    "            print(\"O ganhou!\")\n",
    "            return\n",
    "\n",
    "    \"\"\"checa digonal p esquerda\"\"\"\n",
    "    qX, qO = 0,0\n",
    "    for i in range(n):\n",
    "        if m[i][n-1-i] == \"X\":\n",
    "            qX+=1\n",
    "        if m[i][n-1-i] == \"O\":\n",
    "            qO+=1\n",
    "        if qX == n:\n",
    "            print(\"X ganhou!\")\n",
    "            return\n",
    "        elif qO == n:\n",
    "            print(\"O ganhou!\")\n",
    "            return\n",
    "\n",
    "    print(\"Ninguem ganhou!\")\n",
    "    return\n",
    "\n",
    "\n",
    "\n",
    "ganhou(jogodavelha)"
   ]
  },
  {
   "cell_type": "markdown",
   "metadata": {},
   "source": [
    "# Vetor multidimensional\n",
    "- Lista dentro de lista dentro de lista dentro de …\n",
    "- Não precisam ser do mesmo tamanho!\n"
   ]
  },
  {
   "cell_type": "code",
   "execution_count": 27,
   "metadata": {},
   "outputs": [
    {
     "data": {
      "text/plain": [
       "8"
      ]
     },
     "execution_count": 27,
     "metadata": {},
     "output_type": "execute_result"
    }
   ],
   "source": [
    "vmd = [ [ [2,1], [2,3,4] ], [ [1,8], [3,1,3,1] ] ]\n",
    "\n",
    "vmd[1][0][1]"
   ]
  },
  {
   "cell_type": "markdown",
   "metadata": {},
   "source": [
    "# Funções\n",
    "\n",
    "Uma \"caixa\" em que se dá uma entrada e se espera uma saída\n",
    "\n",
    "- ## Reutilização de código  \n",
    "\n",
    "```\n",
    "def nomeDaFuncao(parametro1, parametro2):\n",
    "\t# faça alguma coisa\n",
    "\t# return algum valor\n",
    "\n",
    "# mais código...\n",
    "#...\n",
    "#...\n",
    "\n",
    "resultado1 = nomeDaFuncao(a,b)\n",
    "resultado2 = nomeDaFuncao(b,c)\n",
    "```"
   ]
  },
  {
   "cell_type": "code",
   "execution_count": 39,
   "metadata": {},
   "outputs": [
    {
     "name": "stdout",
     "output_type": "stream",
     "text": [
      "21\n",
      "20\n",
      "41\n"
     ]
    }
   ],
   "source": [
    "def soma(listaDeNumeros):\n",
    "\ttotal = 0\n",
    "\tfor n in listaDeNumeros:\n",
    "\t\ttotal = total + n\n",
    "\treturn total\n",
    "\n",
    "resultado1 = soma([7,8,4,2])\n",
    "resultado2 = soma([4,6,2,8])\n",
    "resultado3 = soma([resultado1, resultado2])\n",
    "\n",
    "print(resultado1)\n",
    "print(resultado2)\n",
    "print(resultado3)\n"
   ]
  },
  {
   "cell_type": "markdown",
   "metadata": {},
   "source": [
    "# Recursão\n",
    "- Uma função que chama a si mesma\n",
    "- Quebra o problema em casos menores\n",
    "- 3 requisitos: Um caso base, uma mudança de estado e uma chamada recursiva\n",
    "\n"
   ]
  },
  {
   "cell_type": "code",
   "execution_count": 45,
   "metadata": {},
   "outputs": [
    {
     "data": {
      "text/plain": [
       "21"
      ]
     },
     "execution_count": 45,
     "metadata": {},
     "output_type": "execute_result"
    }
   ],
   "source": [
    "def somaRecursiva(listaDeNumeros):\n",
    "    if len(listaDeNumeros) == 1: # caso base\n",
    "        return listaDeNumeros[0]\n",
    "    else:  # chamada recursiva + mudança de estado passando a lista sem o primeiro elemento\n",
    "        return listaDeNumeros[0]+ somaRecursiva(listaDeNumeros[1:])\n",
    "\n",
    "soma([7,8,4,2])"
   ]
  },
  {
   "cell_type": "markdown",
   "metadata": {},
   "source": [
    "**Exercício**  \n",
    "Você precisa escrever uma função recursiva para calcular o fatorial de um número. \n",
    "A função fat(n) retorna n \\* n-1 \\* n-2 * ... Onde o fatorial de zero é definido como 1. Qual seria o caso base mais apropriado?\n"
   ]
  },
  {
   "cell_type": "code",
   "execution_count": 43,
   "metadata": {},
   "outputs": [
    {
     "data": {
      "text/plain": [
       "6"
      ]
     },
     "execution_count": 43,
     "metadata": {},
     "output_type": "execute_result"
    }
   ],
   "source": [
    "def fatorial(num):\n",
    "\tif num==0 or num ==1:\n",
    "\t\treturn 1\n",
    "\telse:\n",
    "\t\treturn num * fatorial(num-1)\n",
    "\n",
    "fatorial(3)"
   ]
  },
  {
   "cell_type": "markdown",
   "metadata": {},
   "source": [
    "# Ordenação\n",
    "- ## Selection sort\n",
    "- Para i de 0 ao fim do vetor:\n",
    "> - A partir da posição i, ache o menor\n",
    ">> - Se o menor não estiver na posição i, troque os dois elementos\n",
    "\n",
    "- ## Bubble sort\n",
    "- Para i de 0 a n ( tamanho do vetor):\n",
    "> - Para j de 0 a n-i-1 :\n",
    ">> - se elemento j maior que o j+1, troque \n",
    "\n",
    "- ## Insertion sort\n",
    "- Para i de 1 a n ( tamanho do vetor):\n",
    "- 0 a i-1 já estão ordenados\n",
    ">> - insere elemento i na sua posição correta\n",
    "\n",
    "**Exercício**  \n",
    "Escreva uma função que recebe uma lista de números e retorna a lista com o índice correspondentes a lista ordenada\n",
    "Dica: Use tuplas!\n",
    "Ex.\n",
    "\t```\n",
    "    ordenaIndices([64,20,13,2,9])\n",
    "\t>>> [3,4,2,1,0]\n",
    "    ```\n"
   ]
  },
  {
   "cell_type": "code",
   "execution_count": 52,
   "metadata": {},
   "outputs": [
    {
     "data": {
      "text/plain": [
       "[3, 4, 2, 1, 0]"
      ]
     },
     "execution_count": 52,
     "metadata": {},
     "output_type": "execute_result"
    }
   ],
   "source": [
    "def ordenaIndices(listaNum):\n",
    "\tlistaTuplas = [(listaNum[i], i) for i in range(len(listaNum))]\n",
    "\tfor i in range(len(listaNum)):   # bubble sort!!!\n",
    "\t\tfor j in range(len(listaNum)-i-1):\n",
    "\t\t\tif listaTuplas[j][0] > listaTuplas[j+1][0]:\n",
    "\t\t\t\tlistaTuplas[j], listaTuplas[j+1] = listaTuplas[j+1], listaTuplas[j]\n",
    "\treturn [listaTuplas[i][1] for i in range(len(listaNum))]\n",
    "\n",
    "\n",
    "ordenaIndices([64,20,13,2,9])"
   ]
  },
  {
   "cell_type": "markdown",
   "metadata": {},
   "source": [
    "# Busca sequencial\n",
    "- Percorre a lista, comparando todos os elementos com a chave\n",
    "- Se elemento for igual a chave, devolve sua posição\n",
    "- Se chegar ao final da lista e não achou ninguém, retorna -1\n",
    "\n",
    "# Busca binária\n",
    "- Só para listas **já ordenadas!**\n",
    "- Olha meio da lista\n",
    "- Se chave = elemento do meio, devolve posição\n",
    "- Se chave > elemento do meio, procura na metade da direita\n",
    "- Se chave < elemento do meio, procura na metade da esquerda\n",
    "\n",
    "**Exercício**  \n",
    "Escreva uma função que recebe uma lista de números e retorna a lista sem elementos repetidos\n",
    "\n",
    "```\n",
    "semRep([1,2,3,3,4,6,1,2])\n",
    ">>> [1,2,3,4,6]\n",
    "```\n"
   ]
  },
  {
   "cell_type": "code",
   "execution_count": 55,
   "metadata": {},
   "outputs": [
    {
     "data": {
      "text/plain": [
       "[1, 2, 3, 4, 6]"
      ]
     },
     "execution_count": 55,
     "metadata": {},
     "output_type": "execute_result"
    }
   ],
   "source": [
    "def semRep(l):\n",
    "\ti = 1\n",
    "\twhile i < len(l):\n",
    "\t\trep = False\n",
    "\t\tfor j in range(0,i):\n",
    "\t\t\tif l[i]==l[j]:\n",
    "\t\t\t\trep = True\n",
    "\t\tif rep:\n",
    "\t\t\tl.pop(i)\n",
    "\t\telse:\n",
    "\t\t\ti+= 1\n",
    "\treturn l\n",
    "\n",
    "semRep([1,2,3,3,4,6,1,2])"
   ]
  },
  {
   "cell_type": "markdown",
   "metadata": {},
   "source": [
    "# Arquivos texto\n",
    "- Abrir, mexer, fechar!  \n",
    "\n",
    "| Modo | Significado\n",
    "| :-: | :---------  \n",
    "| r | read (Leitura)   \n",
    "| w | write (*Sobre*scrita)  \n",
    "| r+ | Leitura e *sobre*scrita   \n",
    "| a | append (Escrita ao final, sem sobrescrever)  "
   ]
  },
  {
   "cell_type": "code",
   "execution_count": 62,
   "metadata": {},
   "outputs": [],
   "source": [
    "try: # Escrita\n",
    "    arq = open('lista.txt', 'w')\n",
    "    texto = \"\"\"\n",
    "    Lista de Alunos\n",
    "    ---\n",
    "    João da Silva\n",
    "    José Lima\n",
    "    Maria das Dores\n",
    "    \"\"\"\n",
    "    arq.write(texto)\n",
    "    arq.close()\n",
    "except: \n",
    "    ''' aqui vai o código a ser executado caso ocorra algum erro\n",
    "    ao abrir/escrever no arquivo'''\n",
    "    pass"
   ]
  },
  {
   "cell_type": "code",
   "execution_count": 57,
   "metadata": {},
   "outputs": [],
   "source": [
    "try: # Leitura\n",
    "\tarq = open(nomeArq, 'r')\n",
    "\ttexto = arq.read()\n",
    "\tprint(texto)\n",
    "\tarq.close()\n",
    "except:\n",
    "    pass"
   ]
  },
  {
   "cell_type": "markdown",
   "metadata": {},
   "source": [
    "**Exercício**   \n",
    "Abra um arquivo e conte quantas vezes cada caractere aparece \n",
    "Dica: Use um dicionário!    \n",
    "\n",
    "\n",
    "\n",
    "| Arquivo | Conteúdo\n",
    "|-----------|--------|  \n",
    "| conta.txt | banana | \n",
    "\n",
    "\n",
    "```\n",
    "conta(“ex.txt”)\n",
    ">>> (“b”, 1)\n",
    "\t(“a”, 3)\n",
    "\t(“n”, 2)\n",
    "```"
   ]
  },
  {
   "cell_type": "code",
   "execution_count": 61,
   "metadata": {},
   "outputs": [],
   "source": [
    "try:\n",
    "    arq = open('ex.txt', 'r')\n",
    "    texto = arq.read()\n",
    "    dic = {}\n",
    "    for c in texto:\n",
    "        if c in dic.keys():\n",
    "            dic[c]+=1\n",
    "        else:\n",
    "            dic[c]=1\n",
    "    arq.close()\n",
    "    print(dic)\n",
    "except: # não queremos tratar erros nesse momento, por isso pass (ignorar)\n",
    "    pass"
   ]
  },
  {
   "cell_type": "markdown",
   "metadata": {},
   "source": [
    "# Divisão e conquista\n",
    "- Dividir seu problema em problemas menores, resolver cada um e juntar\n",
    "- ## Merge sort\n",
    "- Algoritmo recursivo\n",
    "- Caso base: lista de tamanho 1\n",
    "- Volta: juntar de 2 em 2, colocando em ordem \n",
    "- ## Quick sort\n",
    "- Escolha algum elemento como pivô\n",
    "- Coloque todos os elementos menores que o pivô a sua esquerda\n",
    "- Coloque todos os elementos maiores que o pivô a sua direita\n",
    "- Repita o processo em cada metade\n",
    "\n",
    "\n",
    "# Mais exercícios\n",
    "\t\n",
    "https://wiki.python.org.br/ListaDeExercicios/  \n",
    "https://practice.geeksforgeeks.org/  \n",
    "https://visualgo.net/en/sorting\n",
    "\n",
    "# Gostou? Quer se aprofundar?\n",
    "[Python para Zumbis](#http://pycursos.com/python-para-zumbis)  \n",
    "[Automate the Boring Stuff](#https://automatetheboringstuff.com/)  \n",
    "[Curso no Codecademy](#https://www.codecademy.com/pt-BR/learn/python)\n",
    "\n",
    "Esse notebook é material do [PyLadies Campinas](#fb.com/pyladiescps). Obrigada!\n"
   ]
  }
 ],
 "metadata": {
  "kernelspec": {
   "display_name": "Python 3",
   "language": "python",
   "name": "python3"
  },
  "language_info": {
   "codemirror_mode": {
    "name": "ipython",
    "version": 3
   },
   "file_extension": ".py",
   "mimetype": "text/x-python",
   "name": "python",
   "nbconvert_exporter": "python",
   "pygments_lexer": "ipython3",
   "version": "3.6.0"
  }
 },
 "nbformat": 4,
 "nbformat_minor": 2
}
